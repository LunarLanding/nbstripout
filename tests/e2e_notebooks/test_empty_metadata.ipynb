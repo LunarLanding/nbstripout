{
 "cells": [
  {
   "cell_type": "markdown",
   "id": "5c42035d",
   "metadata": {},
   "source": [
    "This notebook is missing `metadata.kernelspec`."
   ]
  }
 ],
 "metadata": {},
 "nbformat": 4,
 "nbformat_minor": 5
}
